{
 "cells": [
  {
   "cell_type": "code",
   "execution_count": 1,
   "metadata": {},
   "outputs": [
    {
     "name": "stdout",
     "output_type": "stream",
     "text": [
      "Random starting synaptic weights:\n",
      "[[-0.16595599]\n",
      " [ 0.44064899]\n",
      " [-0.99977125]]\n",
      "New Synaptic weights after training: \n",
      "[[ 9.67299303]\n",
      " [-0.2078435 ]\n",
      " [-4.62963669]]\n",
      "Considering new situation [1 0 0]->?:\n",
      "[0.99993704]\n"
     ]
    }
   ],
   "source": [
    "from numpy import *\n",
    " \n",
    "class NeuralNetwork():\n",
    "    def __init__(self):\n",
    "        random.seed(1)\n",
    "        self.synaptic_weights = 2 * random.random((3,1)) - 1\n",
    " \n",
    "    def __sigmoid(self, x):\n",
    "        return 1/(1 + exp(-x))\n",
    "    def __sigmoid_derivate(self, x):\n",
    "        return x * (1-x)\n",
    " \n",
    "    def train(self, training_set_inputs, training_set_outputs, number_of_training_iterations):\n",
    "        for interaion in range(number_of_training_iterations):\n",
    "            output = self.predict(training_set_inputs)\n",
    "            error = training_set_outputs - output\n",
    "            adjustment = dot(training_set_inputs.T, error * self.__sigmoid_derivate(output))\n",
    "            self.synaptic_weights += adjustment\n",
    " \n",
    "    def predict(self, inputs):\n",
    "        return self.__sigmoid(dot(inputs, self.synaptic_weights))\n",
    "    def think(self, inputs):\n",
    "        return self.__sigmoid(dot(inputs, self.synaptic_weights))\n",
    " \n",
    "neural_network = NeuralNetwork()\n",
    "print('Random starting synaptic weights:')\n",
    "print(neural_network.synaptic_weights)\n",
    "training_set_inputs = array([[0,0,1],[1,1,1],[1,0,1],[0,1,1]])\n",
    "training_set_outputs = array([[0,1,1,0]]).T\n",
    "neural_network.train(training_set_inputs,training_set_outputs,10000)\n",
    "print('New Synaptic weights after training: ')\n",
    "print(neural_network.synaptic_weights)\n",
    "print('Considering new situation [1 0 0]->?:')\n",
    "print(neural_network.think(array([1, 0, 0])))"
   ]
  },
  {
   "cell_type": "code",
   "execution_count": null,
   "metadata": {},
   "outputs": [],
   "source": []
  }
 ],
 "metadata": {
  "kernelspec": {
   "display_name": "Python 3",
   "language": "python",
   "name": "python3"
  },
  "language_info": {
   "codemirror_mode": {
    "name": "ipython",
    "version": 3
   },
   "file_extension": ".py",
   "mimetype": "text/x-python",
   "name": "python",
   "nbconvert_exporter": "python",
   "pygments_lexer": "ipython3",
   "version": "3.7.6"
  }
 },
 "nbformat": 4,
 "nbformat_minor": 4
}
