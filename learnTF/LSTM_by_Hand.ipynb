{
 "cells": [
  {
   "cell_type": "markdown",
   "metadata": {},
   "source": [
    "## LSTM by Hand"
   ]
  },
  {
   "cell_type": "markdown",
   "metadata": {},
   "source": [
    "来源: https://www.bilibili.com/video/BV1FV41117Uz/"
   ]
  },
  {
   "cell_type": "code",
   "execution_count": 97,
   "metadata": {},
   "outputs": [],
   "source": [
    "import tensorflow as tf\n",
    "import numpy as np"
   ]
  },
  {
   "cell_type": "code",
   "execution_count": 3,
   "metadata": {},
   "outputs": [],
   "source": [
    "batch_size = 4\n",
    "sequence_length = 5\n",
    "input_size = 30\n",
    "output_size = 20\n",
    "\n",
    "x = tf.random.uniform((batch_size, sequence_length, input_size))"
   ]
  },
  {
   "cell_type": "code",
   "execution_count": 4,
   "metadata": {},
   "outputs": [
    {
     "data": {
      "text/plain": [
       "TensorShape([4, 5, 30])"
      ]
     },
     "execution_count": 4,
     "metadata": {},
     "output_type": "execute_result"
    }
   ],
   "source": [
    "x.shape"
   ]
  },
  {
   "cell_type": "code",
   "execution_count": null,
   "metadata": {},
   "outputs": [],
   "source": [
    "# LSTM's input: [batch_size, sequence_length, input_size]\n",
    "# LSTM's output1: [batch_size, sequence_length, input_size]\n",
    "#        output2: [batch_size, input_size]\n"
   ]
  },
  {
   "cell_type": "code",
   "execution_count": 5,
   "metadata": {},
   "outputs": [],
   "source": [
    "xt = x[:, 0, :]"
   ]
  },
  {
   "cell_type": "code",
   "execution_count": 6,
   "metadata": {},
   "outputs": [
    {
     "data": {
      "text/plain": [
       "TensorShape([4, 30])"
      ]
     },
     "execution_count": 6,
     "metadata": {},
     "output_type": "execute_result"
    }
   ],
   "source": [
    "xt.shape"
   ]
  },
  {
   "cell_type": "code",
   "execution_count": 7,
   "metadata": {},
   "outputs": [],
   "source": [
    "wf = tf.random.uniform((input_size, output_size))\n",
    "wi = tf.random.uniform((input_size, output_size))\n",
    "wo = tf.random.uniform((input_size, output_size))\n",
    "wc = tf.random.uniform((input_size, output_size))\n",
    "\n",
    "uf = tf.random.uniform((output_size, output_size))\n",
    "ui = tf.random.uniform((output_size, output_size))\n",
    "uo = tf.random.uniform((output_size, output_size))\n",
    "uc = tf.random.uniform((output_size, output_size))\n",
    "\n",
    "bf = tf.random.uniform((1, output_size))\n",
    "bi = tf.random.uniform((1, output_size))\n",
    "bo = tf.random.uniform((1, output_size))\n",
    "bc = tf.random.uniform((1, output_size))\n",
    "\n"
   ]
  },
  {
   "cell_type": "code",
   "execution_count": 15,
   "metadata": {},
   "outputs": [],
   "source": [
    "sequence_outputs = []\n",
    "for i in range(sequence_length):\n",
    "\n",
    "    if i == 0:\n",
    "        xt = x[:, 0, :]\n",
    "        ft = tf.sigmoid(tf.matmul(xt, wf) + bf)\n",
    "        it = tf.sigmoid(tf.matmul(xt, wi) + bi)\n",
    "        ot = tf.sigmoid(tf.matmul(xt, wo) + bo)\n",
    "        cht = tf.tanh(tf.matmul(xt, wc) + bc)\n",
    "\n",
    "        ct = it * cht\n",
    "        ht = ot * tf.tanh(ct)\n",
    "    \n",
    "    else:\n",
    "        xt = x[:, 0, :]\n",
    "        ft = tf.sigmoid(tf.matmul(xt, wf) + bf)\n",
    "        it = tf.sigmoid(tf.matmul(xt, wi) + bi)\n",
    "        ot = tf.sigmoid(tf.matmul(xt, wo) + bo)\n",
    "        cht = tf.tanh(tf.matmul(xt, wc) + bc)\n",
    "\n",
    "        ct = ft * ct + it * cht\n",
    "        ht = ot * tf.tanh(ct)\n",
    "    \n",
    "    sequence_outputs.append(ht)"
   ]
  },
  {
   "cell_type": "code",
   "execution_count": 16,
   "metadata": {},
   "outputs": [],
   "source": [
    "sequence_outputs = tf.stack(sequence_outputs)\n",
    "sequence_outputs = tf.transpose(sequence_outputs, (1, 0, 2))"
   ]
  },
  {
   "cell_type": "code",
   "execution_count": 17,
   "metadata": {},
   "outputs": [
    {
     "data": {
      "text/plain": [
       "<tf.Tensor: shape=(4, 5, 20), dtype=float32, numpy=\n",
       "array([[[0.7615513 , 0.76152027, 0.7611937 , 0.7612968 , 0.7612811 ,\n",
       "         0.76152354, 0.7615123 , 0.7612592 , 0.76102453, 0.76138854,\n",
       "         0.76132154, 0.7615129 , 0.76154405, 0.76156265, 0.76156324,\n",
       "         0.7615773 , 0.7614139 , 0.7615132 , 0.7615583 , 0.76134163],\n",
       "        [0.9639812 , 0.9639275 , 0.9637301 , 0.96366656, 0.96380603,\n",
       "         0.96397704, 0.9639306 , 0.9637829 , 0.9635306 , 0.96377355,\n",
       "         0.9636911 , 0.96393913, 0.963963  , 0.96398157, 0.96397525,\n",
       "         0.9640142 , 0.96385056, 0.96396244, 0.963987  , 0.9638627 ],\n",
       "        [0.99502003, 0.99497443, 0.99482745, 0.9946906 , 0.9948806 ,\n",
       "         0.9950189 , 0.99496067, 0.9948606 , 0.994611  , 0.9947966 ,\n",
       "         0.99471253, 0.99497205, 0.9950144 , 0.9950233 , 0.9950278 ,\n",
       "         0.99504524, 0.99489224, 0.9950013 , 0.9950253 , 0.994935  ],\n",
       "        [0.9992992 , 0.9992583 , 0.99912107, 0.998966  , 0.9991663 ,\n",
       "         0.9992976 , 0.9992369 , 0.9991473 , 0.99889857, 0.99907136,\n",
       "         0.9989872 , 0.9992487 , 0.9992995 , 0.99930435, 0.9993138 ,\n",
       "         0.99932104, 0.9991712 , 0.99927884, 0.9993043 , 0.99922055],\n",
       "        [0.99988043, 0.999841  , 0.9997052 , 0.99954635, 0.9997483 ,\n",
       "         0.9998785 , 0.9998173 , 0.9997297 , 0.99948126, 0.9996513 ,\n",
       "         0.9995673 , 0.99982923, 0.9998822 , 0.9998861 , 0.99989706,\n",
       "         0.9999012 , 0.99975216, 0.9998594 , 0.99988544, 0.99980265]],\n",
       "\n",
       "       [[0.759851  , 0.75959593, 0.7540016 , 0.7574065 , 0.7592567 ,\n",
       "         0.7606309 , 0.75920886, 0.75788224, 0.75536805, 0.75915927,\n",
       "         0.74882853, 0.7594148 , 0.7595455 , 0.7595839 , 0.76045424,\n",
       "         0.7606932 , 0.75664085, 0.7600196 , 0.7601063 , 0.75742203],\n",
       "        [0.9621429 , 0.9624014 , 0.95915526, 0.9589711 , 0.96252024,\n",
       "         0.9632215 , 0.96120733, 0.9598431 , 0.95902884, 0.9610671 ,\n",
       "         0.9480325 , 0.9614512 , 0.9623989 , 0.9616167 , 0.96311766,\n",
       "         0.9631869 , 0.95991135, 0.9629522 , 0.96269643, 0.9610522 ],\n",
       "        [0.9933066 , 0.9939274 , 0.9916055 , 0.9900836 , 0.993982  ,\n",
       "         0.99448276, 0.9923073 , 0.99101555, 0.99080783, 0.9921267 ,\n",
       "         0.9786662 , 0.992563  , 0.9940752 , 0.99294394, 0.9944397 ,\n",
       "         0.9943215 , 0.991599  , 0.99433994, 0.9940426 , 0.9927706 ],\n",
       "        [0.99763495, 0.9983691 , 0.99623084, 0.99442333, 0.99836326,\n",
       "         0.99883616, 0.9966247 , 0.99535626, 0.99526596, 0.99643314,\n",
       "         0.98291   , 0.9968843 , 0.9985763 , 0.9973558 , 0.99881256,\n",
       "         0.9986298 , 0.9960553 , 0.9987184 , 0.99842775, 0.9972203 ],\n",
       "        [0.99822885, 0.9989906 , 0.9968822 , 0.9950228 , 0.9989649 ,\n",
       "         0.99943584, 0.99721694, 0.9959539 , 0.99588263, 0.997023  ,\n",
       "         0.9834903 , 0.9974773 , 0.99921405, 0.997974  , 0.9994167 ,\n",
       "         0.9992178 , 0.996675  , 0.9993219 , 0.9990355 , 0.99783653]],\n",
       "\n",
       "       [[0.7615435 , 0.7615101 , 0.76115996, 0.7610755 , 0.7614074 ,\n",
       "         0.7615282 , 0.76149064, 0.7611778 , 0.760855  , 0.7615007 ,\n",
       "         0.76128507, 0.7615209 , 0.7614144 , 0.7615541 , 0.76156473,\n",
       "         0.76157254, 0.7613628 , 0.7614536 , 0.7615646 , 0.76136637],\n",
       "        [0.96398497, 0.9639216 , 0.96366835, 0.9634098 , 0.9638639 ,\n",
       "         0.96397185, 0.9639022 , 0.96363527, 0.96347487, 0.9639211 ,\n",
       "         0.96364504, 0.96395034, 0.9639164 , 0.96393716, 0.9639935 ,\n",
       "         0.96401143, 0.96374565, 0.9639264 , 0.96399194, 0.96383256],\n",
       "        [0.9950239 , 0.99496883, 0.9947687 , 0.9944406 , 0.9949101 ,\n",
       "         0.9950132 , 0.9949305 , 0.99470824, 0.9946014 , 0.99495196,\n",
       "         0.9946684 , 0.994985  , 0.99500614, 0.9949918 , 0.99503434,\n",
       "         0.99504393, 0.9947743 , 0.99497604, 0.9950279 , 0.99488777],\n",
       "        [0.9993023 , 0.9992525 , 0.9990653 , 0.99871975, 0.9991899 ,\n",
       "         0.9992924 , 0.99920607, 0.9989969 , 0.99889916, 0.9992282 ,\n",
       "         0.99894404, 0.9992622 , 0.9993    , 0.9992807 , 0.99931455,\n",
       "         0.9993199 , 0.9990513 , 0.9992563 , 0.99930614, 0.99916995],\n",
       "        [0.99988323, 0.9998349 , 0.9996501 , 0.9993011 , 0.99977076,\n",
       "         0.9998734 , 0.99978656, 0.99958044, 0.9994836 , 0.9998088 ,\n",
       "         0.9995244 , 0.99984276, 0.99988484, 0.99986476, 0.99989605,\n",
       "         0.99990046, 0.99963194, 0.99983734, 0.9998871 , 0.9997516 ]],\n",
       "\n",
       "       [[0.7614007 , 0.7614794 , 0.75995666, 0.7609982 , 0.76110023,\n",
       "         0.76149994, 0.7614744 , 0.7612072 , 0.76059514, 0.76142734,\n",
       "         0.7606078 , 0.7614941 , 0.76119304, 0.76148975, 0.76154834,\n",
       "         0.7615292 , 0.7612788 , 0.76140654, 0.76149535, 0.76108176],\n",
       "        [0.96383125, 0.9638931 , 0.9629582 , 0.9632847 , 0.9637223 ,\n",
       "         0.96392214, 0.9638775 , 0.9636694 , 0.9629366 , 0.96383566,\n",
       "         0.96279675, 0.9639247 , 0.96381116, 0.9638478 , 0.96395797,\n",
       "         0.9639768 , 0.9636676 , 0.96387553, 0.9638823 , 0.96375847],\n",
       "        [0.99488384, 0.9949474 , 0.99426955, 0.9943154 , 0.9948429 ,\n",
       "         0.9949797 , 0.99491286, 0.9947315 , 0.9939867 , 0.9948769 ,\n",
       "         0.9938018 , 0.99496424, 0.9949507 , 0.9949114 , 0.99501365,\n",
       "         0.9950156 , 0.99470615, 0.9949287 , 0.99495316, 0.99490774],\n",
       "        [0.99916756, 0.9992334 , 0.99861133, 0.9985972 , 0.9991396 ,\n",
       "         0.9992668 , 0.9991922 , 0.9990157 , 0.9982703 , 0.99915755,\n",
       "         0.998077  , 0.9992432 , 0.9992563 , 0.9992052 , 0.99930114,\n",
       "         0.99929315, 0.9989861 , 0.99921024, 0.999248  , 0.99921256],\n",
       "        [0.99974984, 0.99981654, 0.9992044 , 0.9991794 , 0.9997241 ,\n",
       "         0.99985   , 0.9997733 , 0.9995977 , 0.9988524 , 0.9997391 ,\n",
       "         0.9986579 , 0.99982435, 0.999843  , 0.99979043, 0.9998848 ,\n",
       "         0.999874  , 0.9995675 , 0.9997917 , 0.9998339 , 0.9997987 ]]],\n",
       "      dtype=float32)>"
      ]
     },
     "execution_count": 17,
     "metadata": {},
     "output_type": "execute_result"
    }
   ],
   "source": [
    "sequence_outputs"
   ]
  },
  {
   "cell_type": "code",
   "execution_count": null,
   "metadata": {},
   "outputs": [],
   "source": []
  },
  {
   "cell_type": "code",
   "execution_count": 62,
   "metadata": {},
   "outputs": [],
   "source": [
    "class CustomLSTM(tf.keras.layers.Layer):\n",
    "    \n",
    "    def __init__(self, output_size, return_sequence=False):\n",
    "        super(CustomLSTM, self).__init__()\n",
    "        self.output_size = output_size\n",
    "        self.return_sequence = return_sequence\n",
    "    \n",
    "    def build(self, input_shape):\n",
    "        super(CustomLSTM, self).build(input_shape)\n",
    "        input_size = int(input_shape[-1])\n",
    "        \n",
    "        self.wf = self.add_weight('wf', shape=(input_size, self.output_size))\n",
    "        self.wi = self.add_weight('wi', shape=(input_size, self.output_size))\n",
    "        self.wo = self.add_weight('wo', shape=(input_size, self.output_size))\n",
    "        self.wc = self.add_weight('wc', shape=(input_size, self.output_size))\n",
    "\n",
    "        self.uf = self.add_weight('uf', shape=(self.output_size, self.output_size))\n",
    "        self.ui = self.add_weight('ui', shape=(self.output_size, self.output_size))\n",
    "        self.uo = self.add_weight('uo', shape=(self.output_size, self.output_size))\n",
    "        self.uc = self.add_weight('uc', shape=(self.output_size, self.output_size))\n",
    "\n",
    "        self.bf = self.add_weight('bf', shape=(1, self.output_size))\n",
    "        self.bi = self.add_weight('bi', shape=(1, self.output_size))\n",
    "        self.bo = self.add_weight('bo', shape=(1, self.output_size))\n",
    "        self.bc = self.add_weight('bc', shape=(1, self.output_size))\n",
    "\n",
    "    def call(self, x):\n",
    "        sequence_outputs = []\n",
    "        for i in range(sequence_length):\n",
    "            if i == 0:\n",
    "                xt  = x[:, 0, :]\n",
    "                ft  = tf.sigmoid(tf.matmul(xt, self.wf) + self.bf)\n",
    "                it  = tf.sigmoid(tf.matmul(xt, self.wi) + self.bi)\n",
    "                ot  = tf.sigmoid(tf.matmul(xt, self.wo) + self.bo)\n",
    "                cht = tf.tanh(   tf.matmul(xt, self.wc) + self.bc)\n",
    "                ct  = it * cht\n",
    "                ht  = ot * tf.tanh(ct)\n",
    "\n",
    "            else:\n",
    "                xt  = x[:, 0, :]\n",
    "                ft  = tf.sigmoid(tf.matmul(xt, self.wf) + self.bf)\n",
    "                it  = tf.sigmoid(tf.matmul(xt, self.wi) + self.bi)\n",
    "                ot  = tf.sigmoid(tf.matmul(xt, self.wo) + self.bo)\n",
    "                cht = tf.tanh(  tf.matmul(xt, self.wc) + self.bc)\n",
    "                ct  = ft * ct + it * cht\n",
    "                ht  = ot * tf.tanh(ct)\n",
    "                \n",
    "            sequence_outputs.append(ht)\n",
    "            \n",
    "        sequence_outputs = tf.stack(sequence_outputs)\n",
    "        sequence_outputs = tf.transpose(sequence_outputs, (1, 0, 2))\n",
    "        if self.return_sequence:\n",
    "            return sequence_outputs\n",
    "        return sequence_outputs[:, -1, :]"
   ]
  },
  {
   "cell_type": "code",
   "execution_count": 63,
   "metadata": {},
   "outputs": [],
   "source": [
    "x = tf.random.uniform((batch_size, sequence_length, input_size))"
   ]
  },
  {
   "cell_type": "code",
   "execution_count": 64,
   "metadata": {},
   "outputs": [],
   "source": [
    "lstm = CustomLSTM(output_size=output_size)"
   ]
  },
  {
   "cell_type": "code",
   "execution_count": 65,
   "metadata": {
    "scrolled": true
   },
   "outputs": [
    {
     "data": {
      "text/plain": [
       "<tf.Tensor: shape=(4, 20), dtype=float32, numpy=\n",
       "array([[ 0.17559315, -0.0033465 ,  0.19498971,  0.20370719,  0.555604  ,\n",
       "        -0.11497947, -0.12907541, -0.44550073, -0.31511465,  0.30270946,\n",
       "         0.10547545,  0.03975537,  0.0846829 , -0.6350818 ,  0.21577433,\n",
       "         0.17099082,  0.03680279,  0.01804884, -0.00656928,  0.21040186],\n",
       "       [ 0.27549097,  0.38219866,  0.3293894 ,  0.12697959,  0.46211892,\n",
       "         0.1328001 , -0.15074047, -0.42947242, -0.4036346 ,  0.08333913,\n",
       "        -0.0364337 , -0.01039509,  0.43182087, -0.7040502 ,  0.2583863 ,\n",
       "         0.0117531 , -0.1063024 ,  0.34903434,  0.2475179 ,  0.10472149],\n",
       "       [ 0.13400528,  0.29809576,  0.12833905,  0.27291787,  0.30175376,\n",
       "        -0.09728647, -0.10244128, -0.36168754, -0.39647517,  0.2241841 ,\n",
       "        -0.1136786 , -0.01113822,  0.46097702, -0.8099291 ,  0.32965016,\n",
       "         0.16833295,  0.0230644 ,  0.3228824 ,  0.04792258,  0.04600074],\n",
       "       [ 0.1801043 ,  0.14192995,  0.1562702 ,  0.15627138,  0.3975749 ,\n",
       "        -0.04012599, -0.16452225, -0.37353915, -0.20448355, -0.06147756,\n",
       "        -0.11052667, -0.08059072,  0.41532916, -0.51105857,  0.16469657,\n",
       "         0.08821156, -0.08178989,  0.00185716,  0.08080792,  0.12152416]],\n",
       "      dtype=float32)>"
      ]
     },
     "execution_count": 65,
     "metadata": {},
     "output_type": "execute_result"
    }
   ],
   "source": [
    "lstm(x)"
   ]
  },
  {
   "cell_type": "code",
   "execution_count": 66,
   "metadata": {},
   "outputs": [],
   "source": [
    "model = tf.keras.Sequential([\n",
    "    CustomLSTM(output_size=32), \n",
    "    tf.keras.layers.Dense(2, activation='softmax')\n",
    "])\n",
    "\n",
    "model.compile(\n",
    "    loss = tf.keras.losses.SparseCategoricalCrossentropy(), \n",
    "    optimizer = tf.keras.optimizers.Adam()\n",
    ")"
   ]
  },
  {
   "cell_type": "code",
   "execution_count": 67,
   "metadata": {},
   "outputs": [],
   "source": [
    "x_batch = tf.random.uniform((batch_size, sequence_length, input_size))\n",
    "y_batch = tf.random.uniform((batch_size,), maxval=2, dtype=tf.int32)"
   ]
  },
  {
   "cell_type": "code",
   "execution_count": 70,
   "metadata": {},
   "outputs": [
    {
     "data": {
      "text/plain": [
       "0.6908512711524963"
      ]
     },
     "execution_count": 70,
     "metadata": {},
     "output_type": "execute_result"
    }
   ],
   "source": [
    "model.train_on_batch(x_batch, y_batch)"
   ]
  },
  {
   "cell_type": "code",
   "execution_count": 71,
   "metadata": {},
   "outputs": [],
   "source": [
    "x_data = tf.random.uniform((batch_size * 1000, sequence_length, input_size))\n",
    "y_data = tf.random.uniform((batch_size * 1000,), maxval=2, dtype=tf.int32)"
   ]
  },
  {
   "cell_type": "code",
   "execution_count": 72,
   "metadata": {},
   "outputs": [
    {
     "name": "stdout",
     "output_type": "stream",
     "text": [
      "1000/1000 [==============================] - 2s 2ms/step - loss: 0.6998\n"
     ]
    },
    {
     "data": {
      "text/plain": [
       "<tensorflow.python.keras.callbacks.History at 0x7fe53baa0d30>"
      ]
     },
     "execution_count": 72,
     "metadata": {},
     "output_type": "execute_result"
    }
   ],
   "source": [
    "model.fit(x_data, y_data, batch_size=4)"
   ]
  },
  {
   "cell_type": "code",
   "execution_count": 73,
   "metadata": {},
   "outputs": [
    {
     "name": "stdout",
     "output_type": "stream",
     "text": [
      "1000/1000 [==============================] - 2s 2ms/step - loss: 0.6939\n"
     ]
    },
    {
     "data": {
      "text/plain": [
       "<tensorflow.python.keras.callbacks.History at 0x7fe53baa0b00>"
      ]
     },
     "execution_count": 73,
     "metadata": {},
     "output_type": "execute_result"
    }
   ],
   "source": [
    "model.fit(x_data, y_data, batch_size=4)"
   ]
  },
  {
   "cell_type": "code",
   "execution_count": 74,
   "metadata": {},
   "outputs": [
    {
     "name": "stdout",
     "output_type": "stream",
     "text": [
      "1000/1000 [==============================] - 2s 2ms/step - loss: 0.6926\n"
     ]
    },
    {
     "data": {
      "text/plain": [
       "<tensorflow.python.keras.callbacks.History at 0x7fe53d49c588>"
      ]
     },
     "execution_count": 74,
     "metadata": {},
     "output_type": "execute_result"
    }
   ],
   "source": [
    "model.fit(x_data, y_data, batch_size=4)"
   ]
  },
  {
   "cell_type": "code",
   "execution_count": 75,
   "metadata": {},
   "outputs": [],
   "source": [
    "from zh_dataset_inews import title_train, label_train, content_train, title_test, label_test, content_test"
   ]
  },
  {
   "cell_type": "code",
   "execution_count": 76,
   "metadata": {},
   "outputs": [],
   "source": [
    "text_vector = tf.keras.layers.experimental.preprocessing.TextVectorization()\n",
    "# 学习词表\n",
    "text_vector.adapt(content_train)\n"
   ]
  },
  {
   "cell_type": "code",
   "execution_count": 105,
   "metadata": {},
   "outputs": [
    {
     "data": {
      "text/plain": [
       "tensorflow.python.framework.ops.EagerTensor"
      ]
     },
     "execution_count": 105,
     "metadata": {},
     "output_type": "execute_result"
    }
   ],
   "source": [
    "type(x_data)"
   ]
  },
  {
   "cell_type": "code",
   "execution_count": 106,
   "metadata": {},
   "outputs": [],
   "source": [
    "x_train = tf.convert_to_tensor(text_vector(content_train))\n",
    "x_test  = tf.convert_to_tensor(text_vector(content_test))"
   ]
  },
  {
   "cell_type": "code",
   "execution_count": 107,
   "metadata": {},
   "outputs": [
    {
     "data": {
      "text/plain": [
       "tensorflow.python.framework.ops.EagerTensor"
      ]
     },
     "execution_count": 107,
     "metadata": {},
     "output_type": "execute_result"
    }
   ],
   "source": [
    "type(x_train)"
   ]
  },
  {
   "cell_type": "code",
   "execution_count": 114,
   "metadata": {},
   "outputs": [],
   "source": [
    "y_train = tf.convert_to_tensor(label_train)\n",
    "y_test  = tf.convert_to_tensor(label_test)"
   ]
  },
  {
   "cell_type": "code",
   "execution_count": 115,
   "metadata": {},
   "outputs": [],
   "source": [
    "model_text = tf.keras.Sequential([\n",
    "    CustomLSTM(output_size=32), \n",
    "    tf.keras.layers.Dense(3, activation='softmax')\n",
    "])\n",
    "\n",
    "model_text.compile(\n",
    "    loss = tf.keras.losses.SparseCategoricalCrossentropy(), \n",
    "    optimizer = tf.keras.optimizers.Adam()\n",
    ")"
   ]
  },
  {
   "cell_type": "code",
   "execution_count": 116,
   "metadata": {},
   "outputs": [
    {
     "data": {
      "text/plain": [
       "TensorShape([5355, 921])"
      ]
     },
     "execution_count": 116,
     "metadata": {},
     "output_type": "execute_result"
    }
   ],
   "source": [
    "x_train.shape"
   ]
  },
  {
   "cell_type": "code",
   "execution_count": 117,
   "metadata": {},
   "outputs": [
    {
     "data": {
      "text/plain": [
       "TensorShape([5355])"
      ]
     },
     "execution_count": 117,
     "metadata": {},
     "output_type": "execute_result"
    }
   ],
   "source": [
    "y_train.shape"
   ]
  },
  {
   "cell_type": "code",
   "execution_count": 118,
   "metadata": {},
   "outputs": [
    {
     "ename": "ValueError",
     "evalue": "in user code:\n\n    /Users/weirain/anaconda3/envs/tf2.0/lib/python3.7/site-packages/tensorflow/python/keras/engine/training.py:806 train_function  *\n        return step_function(self, iterator)\n    <ipython-input-62-2df1baacde32>:31 call  *\n        xt  = x[:, 0, :]\n    /Users/weirain/anaconda3/envs/tf2.0/lib/python3.7/site-packages/tensorflow/python/util/dispatch.py:201 wrapper\n        return target(*args, **kwargs)\n    /Users/weirain/anaconda3/envs/tf2.0/lib/python3.7/site-packages/tensorflow/python/ops/array_ops.py:1024 _slice_helper\n        name=name)\n    /Users/weirain/anaconda3/envs/tf2.0/lib/python3.7/site-packages/tensorflow/python/util/dispatch.py:201 wrapper\n        return target(*args, **kwargs)\n    /Users/weirain/anaconda3/envs/tf2.0/lib/python3.7/site-packages/tensorflow/python/ops/array_ops.py:1196 strided_slice\n        shrink_axis_mask=shrink_axis_mask)\n    /Users/weirain/anaconda3/envs/tf2.0/lib/python3.7/site-packages/tensorflow/python/ops/gen_array_ops.py:10352 strided_slice\n        shrink_axis_mask=shrink_axis_mask, name=name)\n    /Users/weirain/anaconda3/envs/tf2.0/lib/python3.7/site-packages/tensorflow/python/framework/op_def_library.py:744 _apply_op_helper\n        attrs=attr_protos, op_def=op_def)\n    /Users/weirain/anaconda3/envs/tf2.0/lib/python3.7/site-packages/tensorflow/python/framework/func_graph.py:593 _create_op_internal\n        compute_device)\n    /Users/weirain/anaconda3/envs/tf2.0/lib/python3.7/site-packages/tensorflow/python/framework/ops.py:3485 _create_op_internal\n        op_def=op_def)\n    /Users/weirain/anaconda3/envs/tf2.0/lib/python3.7/site-packages/tensorflow/python/framework/ops.py:1975 __init__\n        control_input_ops, op_def)\n    /Users/weirain/anaconda3/envs/tf2.0/lib/python3.7/site-packages/tensorflow/python/framework/ops.py:1815 _create_c_op\n        raise ValueError(str(e))\n\n    ValueError: Index out of range using input dim 2; input has only 2 dims for '{{node sequential_11/custom_lstm_18/strided_slice}} = StridedSlice[Index=DT_INT32, T=DT_INT64, begin_mask=5, ellipsis_mask=0, end_mask=5, new_axis_mask=0, shrink_axis_mask=2](IteratorGetNext, sequential_11/custom_lstm_18/strided_slice/stack, sequential_11/custom_lstm_18/strided_slice/stack_1, sequential_11/custom_lstm_18/strided_slice/stack_2)' with input shapes: [?,921], [3], [3], [3] and with computed input tensors: input[3] = <1 1 1>.\n",
     "output_type": "error",
     "traceback": [
      "\u001b[0;31m---------------------------------------------------------------------------\u001b[0m",
      "\u001b[0;31mValueError\u001b[0m                                Traceback (most recent call last)",
      "\u001b[0;32m<ipython-input-118-9d136f1c6381>\u001b[0m in \u001b[0;36m<module>\u001b[0;34m\u001b[0m\n\u001b[0;32m----> 1\u001b[0;31m \u001b[0mhistory_model_text\u001b[0m \u001b[0;34m=\u001b[0m \u001b[0mmodel_text\u001b[0m\u001b[0;34m.\u001b[0m\u001b[0mfit\u001b[0m\u001b[0;34m(\u001b[0m\u001b[0mx_train\u001b[0m\u001b[0;34m,\u001b[0m \u001b[0my_train\u001b[0m\u001b[0;34m,\u001b[0m \u001b[0mbatch_size\u001b[0m\u001b[0;34m=\u001b[0m\u001b[0;36m100\u001b[0m\u001b[0;34m)\u001b[0m\u001b[0;34m\u001b[0m\u001b[0m\n\u001b[0m",
      "\u001b[0;32m~/anaconda3/envs/tf2.0/lib/python3.7/site-packages/tensorflow/python/keras/engine/training.py\u001b[0m in \u001b[0;36m_method_wrapper\u001b[0;34m(self, *args, **kwargs)\u001b[0m\n\u001b[1;32m    106\u001b[0m   \u001b[0;32mdef\u001b[0m \u001b[0m_method_wrapper\u001b[0m\u001b[0;34m(\u001b[0m\u001b[0mself\u001b[0m\u001b[0;34m,\u001b[0m \u001b[0;34m*\u001b[0m\u001b[0margs\u001b[0m\u001b[0;34m,\u001b[0m \u001b[0;34m**\u001b[0m\u001b[0mkwargs\u001b[0m\u001b[0;34m)\u001b[0m\u001b[0;34m:\u001b[0m\u001b[0;34m\u001b[0m\u001b[0m\n\u001b[1;32m    107\u001b[0m     \u001b[0;32mif\u001b[0m \u001b[0;32mnot\u001b[0m \u001b[0mself\u001b[0m\u001b[0;34m.\u001b[0m\u001b[0m_in_multi_worker_mode\u001b[0m\u001b[0;34m(\u001b[0m\u001b[0;34m)\u001b[0m\u001b[0;34m:\u001b[0m  \u001b[0;31m# pylint: disable=protected-access\u001b[0m\u001b[0;34m\u001b[0m\u001b[0m\n\u001b[0;32m--> 108\u001b[0;31m       \u001b[0;32mreturn\u001b[0m \u001b[0mmethod\u001b[0m\u001b[0;34m(\u001b[0m\u001b[0mself\u001b[0m\u001b[0;34m,\u001b[0m \u001b[0;34m*\u001b[0m\u001b[0margs\u001b[0m\u001b[0;34m,\u001b[0m \u001b[0;34m**\u001b[0m\u001b[0mkwargs\u001b[0m\u001b[0;34m)\u001b[0m\u001b[0;34m\u001b[0m\u001b[0m\n\u001b[0m\u001b[1;32m    109\u001b[0m \u001b[0;34m\u001b[0m\u001b[0m\n\u001b[1;32m    110\u001b[0m     \u001b[0;31m# Running inside `run_distribute_coordinator` already.\u001b[0m\u001b[0;34m\u001b[0m\u001b[0;34m\u001b[0m\u001b[0m\n",
      "\u001b[0;32m~/anaconda3/envs/tf2.0/lib/python3.7/site-packages/tensorflow/python/keras/engine/training.py\u001b[0m in \u001b[0;36mfit\u001b[0;34m(self, x, y, batch_size, epochs, verbose, callbacks, validation_split, validation_data, shuffle, class_weight, sample_weight, initial_epoch, steps_per_epoch, validation_steps, validation_batch_size, validation_freq, max_queue_size, workers, use_multiprocessing)\u001b[0m\n\u001b[1;32m   1096\u001b[0m                 batch_size=batch_size):\n\u001b[1;32m   1097\u001b[0m               \u001b[0mcallbacks\u001b[0m\u001b[0;34m.\u001b[0m\u001b[0mon_train_batch_begin\u001b[0m\u001b[0;34m(\u001b[0m\u001b[0mstep\u001b[0m\u001b[0;34m)\u001b[0m\u001b[0;34m\u001b[0m\u001b[0m\n\u001b[0;32m-> 1098\u001b[0;31m               \u001b[0mtmp_logs\u001b[0m \u001b[0;34m=\u001b[0m \u001b[0mtrain_function\u001b[0m\u001b[0;34m(\u001b[0m\u001b[0miterator\u001b[0m\u001b[0;34m)\u001b[0m\u001b[0;34m\u001b[0m\u001b[0m\n\u001b[0m\u001b[1;32m   1099\u001b[0m               \u001b[0;32mif\u001b[0m \u001b[0mdata_handler\u001b[0m\u001b[0;34m.\u001b[0m\u001b[0mshould_sync\u001b[0m\u001b[0;34m:\u001b[0m\u001b[0;34m\u001b[0m\u001b[0m\n\u001b[1;32m   1100\u001b[0m                 \u001b[0mcontext\u001b[0m\u001b[0;34m.\u001b[0m\u001b[0masync_wait\u001b[0m\u001b[0;34m(\u001b[0m\u001b[0;34m)\u001b[0m\u001b[0;34m\u001b[0m\u001b[0m\n",
      "\u001b[0;32m~/anaconda3/envs/tf2.0/lib/python3.7/site-packages/tensorflow/python/eager/def_function.py\u001b[0m in \u001b[0;36m__call__\u001b[0;34m(self, *args, **kwds)\u001b[0m\n\u001b[1;32m    778\u001b[0m       \u001b[0;32melse\u001b[0m\u001b[0;34m:\u001b[0m\u001b[0;34m\u001b[0m\u001b[0m\n\u001b[1;32m    779\u001b[0m         \u001b[0mcompiler\u001b[0m \u001b[0;34m=\u001b[0m \u001b[0;34m\"nonXla\"\u001b[0m\u001b[0;34m\u001b[0m\u001b[0m\n\u001b[0;32m--> 780\u001b[0;31m         \u001b[0mresult\u001b[0m \u001b[0;34m=\u001b[0m \u001b[0mself\u001b[0m\u001b[0;34m.\u001b[0m\u001b[0m_call\u001b[0m\u001b[0;34m(\u001b[0m\u001b[0;34m*\u001b[0m\u001b[0margs\u001b[0m\u001b[0;34m,\u001b[0m \u001b[0;34m**\u001b[0m\u001b[0mkwds\u001b[0m\u001b[0;34m)\u001b[0m\u001b[0;34m\u001b[0m\u001b[0m\n\u001b[0m\u001b[1;32m    781\u001b[0m \u001b[0;34m\u001b[0m\u001b[0m\n\u001b[1;32m    782\u001b[0m       \u001b[0mnew_tracing_count\u001b[0m \u001b[0;34m=\u001b[0m \u001b[0mself\u001b[0m\u001b[0;34m.\u001b[0m\u001b[0m_get_tracing_count\u001b[0m\u001b[0;34m(\u001b[0m\u001b[0;34m)\u001b[0m\u001b[0;34m\u001b[0m\u001b[0m\n",
      "\u001b[0;32m~/anaconda3/envs/tf2.0/lib/python3.7/site-packages/tensorflow/python/eager/def_function.py\u001b[0m in \u001b[0;36m_call\u001b[0;34m(self, *args, **kwds)\u001b[0m\n\u001b[1;32m    821\u001b[0m       \u001b[0;31m# This is the first call of __call__, so we have to initialize.\u001b[0m\u001b[0;34m\u001b[0m\u001b[0;34m\u001b[0m\u001b[0m\n\u001b[1;32m    822\u001b[0m       \u001b[0minitializers\u001b[0m \u001b[0;34m=\u001b[0m \u001b[0;34m[\u001b[0m\u001b[0;34m]\u001b[0m\u001b[0;34m\u001b[0m\u001b[0m\n\u001b[0;32m--> 823\u001b[0;31m       \u001b[0mself\u001b[0m\u001b[0;34m.\u001b[0m\u001b[0m_initialize\u001b[0m\u001b[0;34m(\u001b[0m\u001b[0margs\u001b[0m\u001b[0;34m,\u001b[0m \u001b[0mkwds\u001b[0m\u001b[0;34m,\u001b[0m \u001b[0madd_initializers_to\u001b[0m\u001b[0;34m=\u001b[0m\u001b[0minitializers\u001b[0m\u001b[0;34m)\u001b[0m\u001b[0;34m\u001b[0m\u001b[0m\n\u001b[0m\u001b[1;32m    824\u001b[0m     \u001b[0;32mfinally\u001b[0m\u001b[0;34m:\u001b[0m\u001b[0;34m\u001b[0m\u001b[0m\n\u001b[1;32m    825\u001b[0m       \u001b[0;31m# At this point we know that the initialization is complete (or less\u001b[0m\u001b[0;34m\u001b[0m\u001b[0;34m\u001b[0m\u001b[0m\n",
      "\u001b[0;32m~/anaconda3/envs/tf2.0/lib/python3.7/site-packages/tensorflow/python/eager/def_function.py\u001b[0m in \u001b[0;36m_initialize\u001b[0;34m(self, args, kwds, add_initializers_to)\u001b[0m\n\u001b[1;32m    695\u001b[0m     self._concrete_stateful_fn = (\n\u001b[1;32m    696\u001b[0m         self._stateful_fn._get_concrete_function_internal_garbage_collected(  # pylint: disable=protected-access\n\u001b[0;32m--> 697\u001b[0;31m             *args, **kwds))\n\u001b[0m\u001b[1;32m    698\u001b[0m \u001b[0;34m\u001b[0m\u001b[0m\n\u001b[1;32m    699\u001b[0m     \u001b[0;32mdef\u001b[0m \u001b[0minvalid_creator_scope\u001b[0m\u001b[0;34m(\u001b[0m\u001b[0;34m*\u001b[0m\u001b[0munused_args\u001b[0m\u001b[0;34m,\u001b[0m \u001b[0;34m**\u001b[0m\u001b[0munused_kwds\u001b[0m\u001b[0;34m)\u001b[0m\u001b[0;34m:\u001b[0m\u001b[0;34m\u001b[0m\u001b[0m\n",
      "\u001b[0;32m~/anaconda3/envs/tf2.0/lib/python3.7/site-packages/tensorflow/python/eager/function.py\u001b[0m in \u001b[0;36m_get_concrete_function_internal_garbage_collected\u001b[0;34m(self, *args, **kwargs)\u001b[0m\n\u001b[1;32m   2853\u001b[0m       \u001b[0margs\u001b[0m\u001b[0;34m,\u001b[0m \u001b[0mkwargs\u001b[0m \u001b[0;34m=\u001b[0m \u001b[0;32mNone\u001b[0m\u001b[0;34m,\u001b[0m \u001b[0;32mNone\u001b[0m\u001b[0;34m\u001b[0m\u001b[0m\n\u001b[1;32m   2854\u001b[0m     \u001b[0;32mwith\u001b[0m \u001b[0mself\u001b[0m\u001b[0;34m.\u001b[0m\u001b[0m_lock\u001b[0m\u001b[0;34m:\u001b[0m\u001b[0;34m\u001b[0m\u001b[0m\n\u001b[0;32m-> 2855\u001b[0;31m       \u001b[0mgraph_function\u001b[0m\u001b[0;34m,\u001b[0m \u001b[0m_\u001b[0m\u001b[0;34m,\u001b[0m \u001b[0m_\u001b[0m \u001b[0;34m=\u001b[0m \u001b[0mself\u001b[0m\u001b[0;34m.\u001b[0m\u001b[0m_maybe_define_function\u001b[0m\u001b[0;34m(\u001b[0m\u001b[0margs\u001b[0m\u001b[0;34m,\u001b[0m \u001b[0mkwargs\u001b[0m\u001b[0;34m)\u001b[0m\u001b[0;34m\u001b[0m\u001b[0m\n\u001b[0m\u001b[1;32m   2856\u001b[0m     \u001b[0;32mreturn\u001b[0m \u001b[0mgraph_function\u001b[0m\u001b[0;34m\u001b[0m\u001b[0m\n\u001b[1;32m   2857\u001b[0m \u001b[0;34m\u001b[0m\u001b[0m\n",
      "\u001b[0;32m~/anaconda3/envs/tf2.0/lib/python3.7/site-packages/tensorflow/python/eager/function.py\u001b[0m in \u001b[0;36m_maybe_define_function\u001b[0;34m(self, args, kwargs)\u001b[0m\n\u001b[1;32m   3211\u001b[0m \u001b[0;34m\u001b[0m\u001b[0m\n\u001b[1;32m   3212\u001b[0m       \u001b[0mself\u001b[0m\u001b[0;34m.\u001b[0m\u001b[0m_function_cache\u001b[0m\u001b[0;34m.\u001b[0m\u001b[0mmissed\u001b[0m\u001b[0;34m.\u001b[0m\u001b[0madd\u001b[0m\u001b[0;34m(\u001b[0m\u001b[0mcall_context_key\u001b[0m\u001b[0;34m)\u001b[0m\u001b[0;34m\u001b[0m\u001b[0m\n\u001b[0;32m-> 3213\u001b[0;31m       \u001b[0mgraph_function\u001b[0m \u001b[0;34m=\u001b[0m \u001b[0mself\u001b[0m\u001b[0;34m.\u001b[0m\u001b[0m_create_graph_function\u001b[0m\u001b[0;34m(\u001b[0m\u001b[0margs\u001b[0m\u001b[0;34m,\u001b[0m \u001b[0mkwargs\u001b[0m\u001b[0;34m)\u001b[0m\u001b[0;34m\u001b[0m\u001b[0m\n\u001b[0m\u001b[1;32m   3214\u001b[0m       \u001b[0mself\u001b[0m\u001b[0;34m.\u001b[0m\u001b[0m_function_cache\u001b[0m\u001b[0;34m.\u001b[0m\u001b[0mprimary\u001b[0m\u001b[0;34m[\u001b[0m\u001b[0mcache_key\u001b[0m\u001b[0;34m]\u001b[0m \u001b[0;34m=\u001b[0m \u001b[0mgraph_function\u001b[0m\u001b[0;34m\u001b[0m\u001b[0m\n\u001b[1;32m   3215\u001b[0m       \u001b[0;32mreturn\u001b[0m \u001b[0mgraph_function\u001b[0m\u001b[0;34m,\u001b[0m \u001b[0margs\u001b[0m\u001b[0;34m,\u001b[0m \u001b[0mkwargs\u001b[0m\u001b[0;34m\u001b[0m\u001b[0m\n",
      "\u001b[0;32m~/anaconda3/envs/tf2.0/lib/python3.7/site-packages/tensorflow/python/eager/function.py\u001b[0m in \u001b[0;36m_create_graph_function\u001b[0;34m(self, args, kwargs, override_flat_arg_shapes)\u001b[0m\n\u001b[1;32m   3073\u001b[0m             \u001b[0marg_names\u001b[0m\u001b[0;34m=\u001b[0m\u001b[0marg_names\u001b[0m\u001b[0;34m,\u001b[0m\u001b[0;34m\u001b[0m\u001b[0m\n\u001b[1;32m   3074\u001b[0m             \u001b[0moverride_flat_arg_shapes\u001b[0m\u001b[0;34m=\u001b[0m\u001b[0moverride_flat_arg_shapes\u001b[0m\u001b[0;34m,\u001b[0m\u001b[0;34m\u001b[0m\u001b[0m\n\u001b[0;32m-> 3075\u001b[0;31m             capture_by_value=self._capture_by_value),\n\u001b[0m\u001b[1;32m   3076\u001b[0m         \u001b[0mself\u001b[0m\u001b[0;34m.\u001b[0m\u001b[0m_function_attributes\u001b[0m\u001b[0;34m,\u001b[0m\u001b[0;34m\u001b[0m\u001b[0m\n\u001b[1;32m   3077\u001b[0m         \u001b[0mfunction_spec\u001b[0m\u001b[0;34m=\u001b[0m\u001b[0mself\u001b[0m\u001b[0;34m.\u001b[0m\u001b[0mfunction_spec\u001b[0m\u001b[0;34m,\u001b[0m\u001b[0;34m\u001b[0m\u001b[0m\n",
      "\u001b[0;32m~/anaconda3/envs/tf2.0/lib/python3.7/site-packages/tensorflow/python/framework/func_graph.py\u001b[0m in \u001b[0;36mfunc_graph_from_py_func\u001b[0;34m(name, python_func, args, kwargs, signature, func_graph, autograph, autograph_options, add_control_dependencies, arg_names, op_return_value, collections, capture_by_value, override_flat_arg_shapes)\u001b[0m\n\u001b[1;32m    984\u001b[0m         \u001b[0m_\u001b[0m\u001b[0;34m,\u001b[0m \u001b[0moriginal_func\u001b[0m \u001b[0;34m=\u001b[0m \u001b[0mtf_decorator\u001b[0m\u001b[0;34m.\u001b[0m\u001b[0munwrap\u001b[0m\u001b[0;34m(\u001b[0m\u001b[0mpython_func\u001b[0m\u001b[0;34m)\u001b[0m\u001b[0;34m\u001b[0m\u001b[0m\n\u001b[1;32m    985\u001b[0m \u001b[0;34m\u001b[0m\u001b[0m\n\u001b[0;32m--> 986\u001b[0;31m       \u001b[0mfunc_outputs\u001b[0m \u001b[0;34m=\u001b[0m \u001b[0mpython_func\u001b[0m\u001b[0;34m(\u001b[0m\u001b[0;34m*\u001b[0m\u001b[0mfunc_args\u001b[0m\u001b[0;34m,\u001b[0m \u001b[0;34m**\u001b[0m\u001b[0mfunc_kwargs\u001b[0m\u001b[0;34m)\u001b[0m\u001b[0;34m\u001b[0m\u001b[0m\n\u001b[0m\u001b[1;32m    987\u001b[0m \u001b[0;34m\u001b[0m\u001b[0m\n\u001b[1;32m    988\u001b[0m       \u001b[0;31m# invariant: `func_outputs` contains only Tensors, CompositeTensors,\u001b[0m\u001b[0;34m\u001b[0m\u001b[0;34m\u001b[0m\u001b[0m\n",
      "\u001b[0;32m~/anaconda3/envs/tf2.0/lib/python3.7/site-packages/tensorflow/python/eager/def_function.py\u001b[0m in \u001b[0;36mwrapped_fn\u001b[0;34m(*args, **kwds)\u001b[0m\n\u001b[1;32m    598\u001b[0m         \u001b[0;31m# __wrapped__ allows AutoGraph to swap in a converted function. We give\u001b[0m\u001b[0;34m\u001b[0m\u001b[0;34m\u001b[0m\u001b[0m\n\u001b[1;32m    599\u001b[0m         \u001b[0;31m# the function a weak reference to itself to avoid a reference cycle.\u001b[0m\u001b[0;34m\u001b[0m\u001b[0;34m\u001b[0m\u001b[0m\n\u001b[0;32m--> 600\u001b[0;31m         \u001b[0;32mreturn\u001b[0m \u001b[0mweak_wrapped_fn\u001b[0m\u001b[0;34m(\u001b[0m\u001b[0;34m)\u001b[0m\u001b[0;34m.\u001b[0m\u001b[0m__wrapped__\u001b[0m\u001b[0;34m(\u001b[0m\u001b[0;34m*\u001b[0m\u001b[0margs\u001b[0m\u001b[0;34m,\u001b[0m \u001b[0;34m**\u001b[0m\u001b[0mkwds\u001b[0m\u001b[0;34m)\u001b[0m\u001b[0;34m\u001b[0m\u001b[0m\n\u001b[0m\u001b[1;32m    601\u001b[0m     \u001b[0mweak_wrapped_fn\u001b[0m \u001b[0;34m=\u001b[0m \u001b[0mweakref\u001b[0m\u001b[0;34m.\u001b[0m\u001b[0mref\u001b[0m\u001b[0;34m(\u001b[0m\u001b[0mwrapped_fn\u001b[0m\u001b[0;34m)\u001b[0m\u001b[0;34m\u001b[0m\u001b[0m\n\u001b[1;32m    602\u001b[0m \u001b[0;34m\u001b[0m\u001b[0m\n",
      "\u001b[0;32m~/anaconda3/envs/tf2.0/lib/python3.7/site-packages/tensorflow/python/framework/func_graph.py\u001b[0m in \u001b[0;36mwrapper\u001b[0;34m(*args, **kwargs)\u001b[0m\n\u001b[1;32m    971\u001b[0m           \u001b[0;32mexcept\u001b[0m \u001b[0mException\u001b[0m \u001b[0;32mas\u001b[0m \u001b[0me\u001b[0m\u001b[0;34m:\u001b[0m  \u001b[0;31m# pylint:disable=broad-except\u001b[0m\u001b[0;34m\u001b[0m\u001b[0m\n\u001b[1;32m    972\u001b[0m             \u001b[0;32mif\u001b[0m \u001b[0mhasattr\u001b[0m\u001b[0;34m(\u001b[0m\u001b[0me\u001b[0m\u001b[0;34m,\u001b[0m \u001b[0;34m\"ag_error_metadata\"\u001b[0m\u001b[0;34m)\u001b[0m\u001b[0;34m:\u001b[0m\u001b[0;34m\u001b[0m\u001b[0m\n\u001b[0;32m--> 973\u001b[0;31m               \u001b[0;32mraise\u001b[0m \u001b[0me\u001b[0m\u001b[0;34m.\u001b[0m\u001b[0mag_error_metadata\u001b[0m\u001b[0;34m.\u001b[0m\u001b[0mto_exception\u001b[0m\u001b[0;34m(\u001b[0m\u001b[0me\u001b[0m\u001b[0;34m)\u001b[0m\u001b[0;34m\u001b[0m\u001b[0m\n\u001b[0m\u001b[1;32m    974\u001b[0m             \u001b[0;32melse\u001b[0m\u001b[0;34m:\u001b[0m\u001b[0;34m\u001b[0m\u001b[0m\n\u001b[1;32m    975\u001b[0m               \u001b[0;32mraise\u001b[0m\u001b[0;34m\u001b[0m\u001b[0m\n",
      "\u001b[0;31mValueError\u001b[0m: in user code:\n\n    /Users/weirain/anaconda3/envs/tf2.0/lib/python3.7/site-packages/tensorflow/python/keras/engine/training.py:806 train_function  *\n        return step_function(self, iterator)\n    <ipython-input-62-2df1baacde32>:31 call  *\n        xt  = x[:, 0, :]\n    /Users/weirain/anaconda3/envs/tf2.0/lib/python3.7/site-packages/tensorflow/python/util/dispatch.py:201 wrapper\n        return target(*args, **kwargs)\n    /Users/weirain/anaconda3/envs/tf2.0/lib/python3.7/site-packages/tensorflow/python/ops/array_ops.py:1024 _slice_helper\n        name=name)\n    /Users/weirain/anaconda3/envs/tf2.0/lib/python3.7/site-packages/tensorflow/python/util/dispatch.py:201 wrapper\n        return target(*args, **kwargs)\n    /Users/weirain/anaconda3/envs/tf2.0/lib/python3.7/site-packages/tensorflow/python/ops/array_ops.py:1196 strided_slice\n        shrink_axis_mask=shrink_axis_mask)\n    /Users/weirain/anaconda3/envs/tf2.0/lib/python3.7/site-packages/tensorflow/python/ops/gen_array_ops.py:10352 strided_slice\n        shrink_axis_mask=shrink_axis_mask, name=name)\n    /Users/weirain/anaconda3/envs/tf2.0/lib/python3.7/site-packages/tensorflow/python/framework/op_def_library.py:744 _apply_op_helper\n        attrs=attr_protos, op_def=op_def)\n    /Users/weirain/anaconda3/envs/tf2.0/lib/python3.7/site-packages/tensorflow/python/framework/func_graph.py:593 _create_op_internal\n        compute_device)\n    /Users/weirain/anaconda3/envs/tf2.0/lib/python3.7/site-packages/tensorflow/python/framework/ops.py:3485 _create_op_internal\n        op_def=op_def)\n    /Users/weirain/anaconda3/envs/tf2.0/lib/python3.7/site-packages/tensorflow/python/framework/ops.py:1975 __init__\n        control_input_ops, op_def)\n    /Users/weirain/anaconda3/envs/tf2.0/lib/python3.7/site-packages/tensorflow/python/framework/ops.py:1815 _create_c_op\n        raise ValueError(str(e))\n\n    ValueError: Index out of range using input dim 2; input has only 2 dims for '{{node sequential_11/custom_lstm_18/strided_slice}} = StridedSlice[Index=DT_INT32, T=DT_INT64, begin_mask=5, ellipsis_mask=0, end_mask=5, new_axis_mask=0, shrink_axis_mask=2](IteratorGetNext, sequential_11/custom_lstm_18/strided_slice/stack, sequential_11/custom_lstm_18/strided_slice/stack_1, sequential_11/custom_lstm_18/strided_slice/stack_2)' with input shapes: [?,921], [3], [3], [3] and with computed input tensors: input[3] = <1 1 1>.\n"
     ]
    }
   ],
   "source": [
    "history_model_text = model_text.fit(x_train, y_train, batch_size=100)"
   ]
  }
 ],
 "metadata": {
  "kernelspec": {
   "display_name": "Python 3.7.0 64-bit ('tf2.0': conda)",
   "language": "python",
   "name": "python37064bittf20conda6f2e3f475a1a467f9157e7cb1cbbc090"
  },
  "language_info": {
   "codemirror_mode": {
    "name": "ipython",
    "version": 3
   },
   "file_extension": ".py",
   "mimetype": "text/x-python",
   "name": "python",
   "nbconvert_exporter": "python",
   "pygments_lexer": "ipython3",
   "version": "3.7.0"
  }
 },
 "nbformat": 4,
 "nbformat_minor": 4
}
